{
 "cells": [
  {
   "cell_type": "code",
   "execution_count": 2,
   "metadata": {},
   "outputs": [],
   "source": [
    "import arcpy\n",
    "from arcpy import env\n",
    "import os\n",
    "from arcgis import GIS\n",
    "from arcgis.features import GeoAccessor\n",
    "import pandas as pd\n",
    "\n",
    "arcpy.env.overwriteOutput = True"
   ]
  },
  {
   "cell_type": "code",
   "execution_count": 3,
   "metadata": {},
   "outputs": [],
   "source": [
    "#Inputs\n",
    "# parcels_2019_shp = \"C:\\\\Users\\\\slawless\\\\Desktop\\\\S.Projects 2021\\\\Parcel Splitting\\\\Code\\\\SplittingInputs.gdb\\\\Parcels_20200921Updated\"\n",
    "parcels_2019_shp = \"E:\\Projects\\REMM-Input-Data-Prep-2019\\Parcels\\2020-Weber\\Outputs\\weber.gdb\\weber_parcels\"\n",
    "\n",
    "building_points_shp = \"C:\\\\Users\\\\slawless\\\\Desktop\\\\S.Projects 2021\\\\Parcel Splitting\\\\Code\\\\SplittingInputs.gdb\\\\AddressPoint\"\n",
    "'.\\\\Inputs\\\\AddressPoints.gdb\\\\AddressPoints_Weber\\\\address_pts_lyr'\n",
    "\n",
    "\n",
    "#setting up output workspace gdb and environments- if it doesn't exist, create\n",
    "# env.outputCoordinateSystem = arcpy.SpatialReference(\"NAD 1983 StatePlane Utah Central FIPS 4302 (US Feet)\")\n",
    "env.outputCoordinateSystem = arcpy.SpatialReference('NAD 1983 UTM Zone 12N')\n",
    "\n",
    "if not os.path.exists('Outputs'):\n",
    "    os.makedirs('Outputs')\n",
    "    \n",
    "outputs = ['.\\\\Outputs', \"Parcel_splitting.gdb\"]\n",
    "gdb = os.path.join(outputs[0], outputs[1])\n",
    "\n",
    "if not arcpy.Exists(gdb):\n",
    "    arcpy.CreateFileGDB_management(outputs[0], outputs[1])"
   ]
  },
  {
   "cell_type": "markdown",
   "metadata": {},
   "source": [
    "## Create Mesh"
   ]
  },
  {
   "cell_type": "code",
   "execution_count": 4,
   "metadata": {},
   "outputs": [
    {
     "data": {
      "text/html": [
       "<h2>Output</h2>.\\Outputs\\Parcel_splitting.gdb\\acre_mesh<h2>Messages</h2>Start Time: Wednesday, June 9, 2021 10:33:20 AM<br/>Succeeded at Wednesday, June 9, 2021 10:35:16 AM (Elapsed Time: 1 minutes 55 seconds)<br/><style>.rendered_html td, .rendered_html th {text-align: left;}.rendered_html tbody {border: 1px solid black;}</style>"
      ],
      "text/plain": [
       "<Result '.\\\\Outputs\\\\Parcel_splitting.gdb\\\\acre_mesh'>"
      ]
     },
     "execution_count": 4,
     "metadata": {},
     "output_type": "execute_result"
    }
   ],
   "source": [
    "desc = arcpy.Describe(parcels_2019_shp)\n",
    "\n",
    "#create the acre mesh- in this case, the cell_width and height calculate to 1 acre.\n",
    "acre_mesh = arcpy.management.CreateFishnet(out_feature_class = os.path.join(gdb,'acre_mesh'),\n",
    "    origin_coord = str(desc.extent.lowerLeft),\n",
    "    y_axis_coord = str(desc.extent.XMin) + \" \" + str(desc.extent.YMax + 10),\n",
    "#     cell_width = 208.7, \n",
    "#     cell_height = 208.7,\n",
    "    cell_width = 63.6, \n",
    "    cell_height = 63.6, \n",
    "    number_rows = '#',\n",
    "    number_columns = '#',\n",
    "    labels = 'NO_LABELS', \n",
    "    template = parcels_2019_shp, \n",
    "    geometry_type = 'POLYGON'\n",
    ")\n",
    "\n",
    "#Add Required Fields: Grid ID and RealBuildingID\n",
    "arcpy.management.AddFields(in_table=acre_mesh, \n",
    "                           field_description=[[\"RealBldg\", \"DOUBLE\", \"RealBldg\", \"\", \"\", \"\"], \n",
    "                                              [\"MESH_ID\", \"TEXT\", \"MESH_ID\", \"255\", \"\", \"\"]])\n",
    "#Calculate MeshID\n",
    "arcpy.management.CalculateField(in_table=acre_mesh, field=\"MESH_ID\", expression=\"autoIncrement()\", expression_type=\"PYTHON3\", code_block=\"\"\"rec=0\n",
    "def autoIncrement():\n",
    "    global rec\n",
    "    pStart = 1 \n",
    "    pInterval = 1 \n",
    "    if (rec == 0): \n",
    "        rec = pStart \n",
    "    else: \n",
    "        rec = rec + pInterval \n",
    "    return rec\"\"\", field_type=\"TEXT\")\n",
    "\n"
   ]
  },
  {
   "cell_type": "markdown",
   "metadata": {},
   "source": [
    "## Identify Building Points and Parcels that meet qualifications"
   ]
  },
  {
   "cell_type": "code",
   "execution_count": 5,
   "metadata": {},
   "outputs": [],
   "source": [
    "#Identifying which parcels meet the qualifications\n",
    "Parcels_7Acre_wBuildings = arcpy.conversion.FeatureClassToFeatureClass(in_features=parcels_2019_shp, \n",
    "                                                                       out_path=gdb, out_name=\"Parcels_7Acre_wBuildings\", \n",
    "                                                                       where_clause=\"building_type_id NOT IN (0, 14, 99, 3, 4, 5, 6, 8, 9, 10, 12) And ACREAGE >= 7\")\n",
    "\n",
    "#Identifying which buildings reside on those parcels that meet qualifications\n",
    "Buildings_7Acre_wBuildings = arcpy.analysis.SpatialJoin(target_features=building_points_shp, \n",
    "                                                        join_features=Parcels_7Acre_wBuildings, \n",
    "                                                        out_feature_class=os.path.join(gdb,'Buildings_7Acre_wBuildings'), \n",
    "                                                        join_operation=\"JOIN_ONE_TO_ONE\", \n",
    "                                                        join_type=\"KEEP_COMMON\",\n",
    "                                                        match_option=\"INTERSECT\", \n",
    "                                                        search_radius=\"\", \n",
    "                                                        distance_field_name=\"\")\n",
    "\n",
    "#Adding the Preserve Bldg field- used to identify which building areas to preserve\n",
    "Buildings_7Acre_wBuildings = arcpy.management.AddField(in_table=Buildings_7Acre_wBuildings, \n",
    "                                                       field_name=\"PreserveBldg\", \n",
    "                                                       field_type=\"SHORT\", \n",
    "                                                       field_precision=None, \n",
    "                                                       field_scale=None, \n",
    "                                                       field_length=None, \n",
    "                                                       field_alias=\"RealBldg\", \n",
    "                                                       field_is_nullable=\"NULLABLE\", \n",
    "                                                       field_is_required=\"NON_REQUIRED\", \n",
    "                                                       field_domain=\"\")\n",
    "\n",
    "Buildings_7Acre_wBuildings= arcpy.management.CalculateField(in_table=Buildings_7Acre_wBuildings, \n",
    "                                                    field=\"PreserveBldg\", \n",
    "                                                    expression=\"1\", \n",
    "                                                    expression_type=\"ARCADE\", \n",
    "                                                    code_block=\"\", \n",
    "                                                    field_type=\"TEXT\")\n",
    "\n",
    "Preserve_Buildings = arcpy.conversion.FeatureClassToFeatureClass(in_features=Buildings_7Acre_wBuildings, \n",
    "                                                                       out_path=gdb, out_name=\"Preserve_Buildings\")"
   ]
  },
  {
   "cell_type": "markdown",
   "metadata": {},
   "source": [
    "## Identify Mesh Pieces with Buildings"
   ]
  },
  {
   "cell_type": "code",
   "execution_count": 6,
   "metadata": {},
   "outputs": [],
   "source": [
    "#Use Spatial Join to identify which acre_mesh pieces contain those preserve_buildings\n",
    "Mesh_w_Buildings = arcpy.analysis.SpatialJoin(target_features=acre_mesh, \n",
    "                           join_features=Preserve_Buildings, \n",
    "                           out_feature_class=os.path.join(gdb,'Mesh_w_Buildings'), \n",
    "                           join_operation=\"JOIN_ONE_TO_ONE\", \n",
    "                           join_type=\"KEEP_ALL\",\n",
    "                           match_option=\"INTERSECT\", \n",
    "                           search_radius=\"\", \n",
    "                           distance_field_name=\"\")\n",
    "\n",
    "#convert to new Feature Class if Preserve_blg = 1\n",
    "Mesh_w_PreserveBldgs = arcpy.conversion.FeatureClassToFeatureClass(in_features=Mesh_w_Buildings, \n",
    "                                                                       out_path=gdb, out_name=\"Mesh_w_PreserveBldgs\", \n",
    "                                                                       where_clause=\"PreserveBldg IN (1)\")\n",
    "\n"
   ]
  },
  {
   "cell_type": "markdown",
   "metadata": {},
   "source": [
    "## Select Parcels with Mesh Pieces"
   ]
  },
  {
   "cell_type": "code",
   "execution_count": 7,
   "metadata": {},
   "outputs": [],
   "source": [
    "#Select the parcels with buildings on them and prep for mesh erasure and convert to feature class\n",
    "Parcels_for_Erase_select = arcpy.management.SelectLayerByLocation(in_layer=[parcels_2019_shp],\n",
    "                                                                 overlap_type=\"INTERSECT\", \n",
    "                                                                 select_features=Buildings_7Acre_wBuildings, \n",
    "                                                                 search_distance=\"\", \n",
    "                                                                 selection_type=\"NEW_SELECTION\", \n",
    "                                                                 invert_spatial_relationship=\"NOT_INVERT\")\n",
    "\n",
    "Parcels_for_Erase= arcpy.conversion.FeatureClassToFeatureClass(in_features=Parcels_for_Erase_select, \n",
    "                                                                       out_path=gdb, out_name=\"Parcels_for_Erase\")"
   ]
  },
  {
   "cell_type": "markdown",
   "metadata": {},
   "source": [
    "## Erase Mesh Pieces from Selected Parcels"
   ]
  },
  {
   "cell_type": "code",
   "execution_count": 8,
   "metadata": {},
   "outputs": [],
   "source": [
    "parcels_erased = arcpy.analysis.Erase(in_features=Parcels_for_Erase,\n",
    "                                      erase_features=Mesh_w_PreserveBldgs, \n",
    "                                      out_feature_class= os.path.join(gdb,'parcels_erased'),\n",
    "                                      cluster_tolerance=\"\")\n",
    "\n"
   ]
  },
  {
   "cell_type": "markdown",
   "metadata": {},
   "source": [
    "## Erase the attributes from the parcels_erased"
   ]
  },
  {
   "cell_type": "code",
   "execution_count": 9,
   "metadata": {},
   "outputs": [],
   "source": [
    "#calculating all building parcel attributes to zero out for the non-building pieces\n",
    "#YEAR BUILT\n",
    "parcels_erased = arcpy.management.CalculateField(in_table=parcels_erased, \n",
    "                                                                  field=\"year_built\", \n",
    "                                                                  expression=\"\"\"0\"\"\", \n",
    "                                                                  expression_type=\"PYTHON3\")\n",
    "\n",
    "#BUILDING SQFT\n",
    "parcels_erased = arcpy.management.CalculateField(in_table=parcels_erased, \n",
    "                                                                  field=\"building_sqft\", \n",
    "                                                                  expression=\"\"\"0\"\"\", \n",
    "                                                                  expression_type=\"PYTHON3\")\n",
    "\n",
    "#NON-RESIDENTIAL-SQFT\n",
    "parcels_erased = arcpy.management.CalculateField(in_table=parcels_erased, \n",
    "                                                                  field=\"non_residential_sqft\", \n",
    "                                                                  expression=\"\"\"0\"\"\", \n",
    "                                                                  expression_type=\"PYTHON3\")\n",
    "\n",
    "#UNITS PER ACRE\n",
    "parcels_erased = arcpy.management.CalculateField(in_table=parcels_erased, \n",
    "                                                                  field=\"UnitsperAc\", \n",
    "                                                                  expression=\"\"\"0\"\"\", \n",
    "                                                                  expression_type=\"PYTHON3\")\n",
    "\n",
    "#BUILDING TYPE ID\n",
    "parcels_erased = arcpy.management.CalculateField(in_table=parcels_erased, \n",
    "                                                                  field=\"building_type_id\", \n",
    "                                                                  expression=\"\"\"0\"\"\", \n",
    "                                                                  expression_type=\"PYTHON3\")\n",
    "\n",
    "#RESIDENTIAL UNITS\n",
    "parcels_erased = arcpy.management.CalculateField(in_table=parcels_erased, \n",
    "                                                                  field=\"residential_units\", \n",
    "                                                                  expression=\"\"\"0\"\"\", \n",
    "                                                                  expression_type=\"PYTHON3\")"
   ]
  },
  {
   "cell_type": "markdown",
   "metadata": {},
   "source": [
    "## Join Erased Pieces to original Parcels"
   ]
  },
  {
   "cell_type": "code",
   "execution_count": 10,
   "metadata": {},
   "outputs": [],
   "source": [
    "#join erased parcels to original parcels- puzzle piece 1\n",
    "parcels_erased_union = arcpy.analysis.Union(in_features=[[parcels_erased, \"\"], \n",
    "                                  [Parcels_for_Erase, \"\"]], \n",
    "                     out_feature_class=os.path.join(gdb,'parcels_erased_union'), \n",
    "                     join_attributes=\"ALL\", cluster_tolerance=\"\", \n",
    "                     gaps=\"GAPS\")\n",
    "\n"
   ]
  },
  {
   "cell_type": "markdown",
   "metadata": {},
   "source": [
    "## Select all other parcel pieces"
   ]
  },
  {
   "cell_type": "code",
   "execution_count": 11,
   "metadata": {},
   "outputs": [],
   "source": [
    "#All other parcels not included in the parcels_erased_union\n",
    "Other_parcels_select = arcpy.management.SelectLayerByLocation(in_layer=[parcels_2019_shp], \n",
    "                                                          overlap_type=\"INTERSECT\", \n",
    "                                                          select_features=Buildings_7Acre_wBuildings, \n",
    "                                                          search_distance=\"\", \n",
    "                                                          selection_type=\"NEW_SELECTION\", \n",
    "                                                          invert_spatial_relationship=\"INVERT\")\n",
    "#convert selection to new feature class\n",
    "All_other_parcels= arcpy.conversion.FeatureClassToFeatureClass(in_features=Other_parcels_select, \n",
    "                                                                       out_path=gdb, \n",
    "                                                               out_name=\"All_other_parcels\")\n"
   ]
  },
  {
   "cell_type": "markdown",
   "metadata": {},
   "source": [
    "## Merge all parcels ready to split, back together"
   ]
  },
  {
   "cell_type": "code",
   "execution_count": 12,
   "metadata": {},
   "outputs": [],
   "source": [
    "#merging the non-erased, and the erased parcels back together\n",
    "prepared_parcels = arcpy.management.Merge(inputs=[All_other_parcels, parcels_erased_union],\n",
    "                                           output=os.path.join(gdb,'prepared_parcels'),\n",
    "                                           add_source=\"NO_SOURCE_INFO\")\n"
   ]
  },
  {
   "cell_type": "markdown",
   "metadata": {},
   "source": [
    "## All \"need splitting parcels\""
   ]
  },
  {
   "cell_type": "code",
   "execution_count": 13,
   "metadata": {},
   "outputs": [],
   "source": [
    "#select parcels with acreage larger than 7 or haven't been erased\n",
    "parcels_YES_split_select = arcpy.management.SelectLayerByAttribute(in_layer_or_view=prepared_parcels,\n",
    "                                                                               selection_type=\"NEW_SELECTION\", \n",
    "                                                                               where_clause=\"ACREAGE >= 7 And (FID_parcels_erased > -1 Or FID_parcels_erased IS NULL)\", \n",
    "                                                                               invert_where_clause=\"\")\n",
    "\n",
    "parcels_YES_split = arcpy.conversion.FeatureClassToFeatureClass(in_features=parcels_YES_split_select, \n",
    "                                                                       out_path=gdb, \n",
    "                                                               out_name=\"parcels_YES_split\")"
   ]
  },
  {
   "cell_type": "markdown",
   "metadata": {},
   "source": [
    "## Split selected parcels into 5 acre pieces"
   ]
  },
  {
   "cell_type": "code",
   "execution_count": 14,
   "metadata": {},
   "outputs": [],
   "source": [
    "parcels_split = arcpy.management.SubdividePolygon(in_polygons=parcels_YES_split, \n",
    "                                  out_feature_class= os.path.join(gdb,'parcels_split'), \n",
    "                                  method=\"EQUAL_AREAS\", \n",
    "                                  num_areas=None, \n",
    "                                  target_area=\"5 Acres\", \n",
    "                                  target_width=\"\", \n",
    "                                  split_angle=0, \n",
    "                                  subdivision_type=\"STACKED_BLOCKS\")"
   ]
  },
  {
   "cell_type": "markdown",
   "metadata": {},
   "source": [
    "## Select all Non-split parcels"
   ]
  },
  {
   "cell_type": "code",
   "execution_count": 15,
   "metadata": {},
   "outputs": [],
   "source": [
    "#select all other parcels that arent ready for splitting\n",
    "parcels_NO_split_select = arcpy.management.SelectLayerByAttribute(in_layer_or_view=prepared_parcels,\n",
    "                                                                               selection_type=\"NEW_SELECTION\", \n",
    "                                                                               where_clause=\"ACREAGE >= 7 And (FID_parcels_erased > -1 Or FID_parcels_erased IS NULL)\", \n",
    "                                                                               invert_where_clause=\"INVERT\")\n",
    "\n",
    "parcels_NO_split = arcpy.conversion.FeatureClassToFeatureClass(in_features=parcels_NO_split_select, \n",
    "                                                                       out_path=gdb, \n",
    "                                                               out_name=\"parcels_NO_split\")"
   ]
  },
  {
   "cell_type": "markdown",
   "metadata": {},
   "source": [
    "## Put it all back together"
   ]
  },
  {
   "cell_type": "code",
   "execution_count": 16,
   "metadata": {
    "scrolled": true
   },
   "outputs": [],
   "source": [
    "#merging all parcels back together again\n",
    "parcels_split_merge = arcpy.management.Merge(inputs=[parcels_split, parcels_NO_split],\n",
    "                                           output=os.path.join(gdb,'parcels_split_merge'),\n",
    "                                           add_source=\"NO_SOURCE_INFO\")\n",
    "\n"
   ]
  },
  {
   "cell_type": "markdown",
   "metadata": {},
   "source": [
    "## Attribute Cleanup"
   ]
  },
  {
   "cell_type": "code",
   "execution_count": 17,
   "metadata": {},
   "outputs": [
    {
     "data": {
      "text/html": [
       "<h2>Output</h2><table><tr><th>id</th><th>value</th></tr><tr><td>0</td><td>a Layer object</td></tr><tr><td>1</td><td>909</td></tr></table><h2>Messages</h2>Start Time: Wednesday, June 9, 2021 10:41:56 AM<br/>Succeeded at Wednesday, June 9, 2021 10:41:57 AM (Elapsed Time: 0.48 seconds)<br/><style>.rendered_html td, .rendered_html th {text-align: left;}.rendered_html tbody {border: 1px solid black;}</style>"
      ],
      "text/plain": [
       "<Result 'attribute_select'>"
      ]
     },
     "execution_count": 17,
     "metadata": {},
     "output_type": "execute_result"
    }
   ],
   "source": [
    "#select out the parcels that need their attributes saved\n",
    "attribute_select = arcpy.MakeFeatureLayer_management(parcels_split_merge,'attribute_select')\n",
    "query = (\"\"\"FID_parcels_erased = -1\"\"\")\n",
    "arcpy.SelectLayerByAttribute_management(attribute_select, 'NEW_SELECTION', query)\n",
    "   "
   ]
  },
  {
   "cell_type": "code",
   "execution_count": 18,
   "metadata": {},
   "outputs": [
    {
     "data": {
      "text/html": [
       "<h2>Output</h2>a Layer object<h2>Messages</h2>Start Time: Wednesday, June 9, 2021 10:42:02 AM<br/>Succeeded at Wednesday, June 9, 2021 10:42:02 AM (Elapsed Time: 0.54 seconds)<br/><style>.rendered_html td, .rendered_html th {text-align: left;}.rendered_html tbody {border: 1px solid black;}</style>"
      ],
      "text/plain": [
       "<Result 'attribute_select'>"
      ]
     },
     "execution_count": 18,
     "metadata": {},
     "output_type": "execute_result"
    }
   ],
   "source": [
    "#transferring over attributes to correct fields\n",
    "arcpy.CalculateField_management(attribute_select, field='UnitsperAc', \n",
    "                                expression=\"!UnitsperAc_1!\", \n",
    "                                expression_type=\"PYTHON3\")\n",
    "arcpy.CalculateField_management(attribute_select, field='year_built', \n",
    "                                expression=\"!year_built_1!\", \n",
    "                                expression_type=\"PYTHON3\")\n",
    "arcpy.CalculateField_management(attribute_select, field='building_sqft', \n",
    "                                expression=\"!building_sqft_1!\", \n",
    "                                expression_type=\"PYTHON3\")\n",
    "arcpy.CalculateField_management(attribute_select, field='non_residential_sqft', \n",
    "                                expression=\"!non_residential_sqft_1!\", \n",
    "                                expression_type=\"PYTHON3\")\n",
    "arcpy.CalculateField_management(attribute_select, field='building_type_id', \n",
    "                                expression=\"!building_type_id_1!\", \n",
    "                                expression_type=\"PYTHON3\")\n",
    "arcpy.CalculateField_management(attribute_select, field='residential_units', \n",
    "                                expression=\"!residential_units_1!\", \n",
    "                                expression_type=\"PYTHON3\")"
   ]
  },
  {
   "cell_type": "code",
   "execution_count": 19,
   "metadata": {},
   "outputs": [],
   "source": [
    "#attribute cleanup\n",
    "final_parcel_df = pd.DataFrame.spatial.from_featureclass(parcels_split_merge)"
   ]
  },
  {
   "cell_type": "code",
   "execution_count": 20,
   "metadata": {
    "scrolled": true
   },
   "outputs": [
    {
     "data": {
      "text/plain": [
       "['OBJECTID_1',\n",
       " 'OBJECTID',\n",
       " 'PARCELID',\n",
       " 'PARCEL_NO',\n",
       " 'PARCELID_L',\n",
       " 'CREATE_DAT',\n",
       " 'BUILDING',\n",
       " 'UNIT',\n",
       " 'PROP_LEVEL',\n",
       " 'PRPRTYDSCR',\n",
       " 'ACREAGE',\n",
       " 'CNVYNAME',\n",
       " 'SITE_FULLA',\n",
       " 'SITE_HOUSE',\n",
       " 'SITE_PREDI',\n",
       " 'SITE_STREE',\n",
       " 'SITE_STR_1',\n",
       " 'SITE_CITY',\n",
       " 'SITE_STATE',\n",
       " 'SITE_ZIP5',\n",
       " 'OWNERNAME',\n",
       " 'CARE_NAME',\n",
       " 'OWN_FULLAD',\n",
       " 'OWN_STREET',\n",
       " 'OWN_CITY',\n",
       " 'OWN_STATE',\n",
       " 'OWN_ZIP5',\n",
       " 'CVTTXCD',\n",
       " 'CVTTXDSCRP',\n",
       " 'SCHLDSCRP',\n",
       " 'ASMT_YEAR',\n",
       " 'USECODE',\n",
       " 'USEDSCRP',\n",
       " 'NGHBRHDCD',\n",
       " 'NGHBRHDGRO',\n",
       " 'CLASSCD',\n",
       " 'CLASSDSCRP',\n",
       " 'TXACCTTYPE',\n",
       " 'RESFLRAREA',\n",
       " 'RESYRBLT',\n",
       " 'RESSTRTYP',\n",
       " 'RESSTRTYPD',\n",
       " 'STRCLASS',\n",
       " 'CLASSMOD',\n",
       " 'IMP_RCNLD',\n",
       " 'PROP_TYPEC',\n",
       " 'PROP_TYP_1',\n",
       " 'MKT_LANDVA',\n",
       " 'MKT_LAND_R',\n",
       " 'MKT_LAND_A',\n",
       " 'MKT_LAND_C',\n",
       " 'MKT_IMPVAL',\n",
       " 'MKT_IMP_RE',\n",
       " 'MKT_IMP_AG',\n",
       " 'MKT_IMP_CO',\n",
       " 'GREENBELT',\n",
       " 'MKT_PRVVAL',\n",
       " 'MKT_CNTVAL',\n",
       " 'MKT_VALYRC',\n",
       " 'MKT_PCNTCG',\n",
       " 'TXBL_PRVVA',\n",
       " 'TXBL_CNTVA',\n",
       " 'TXBL_VALYR',\n",
       " 'TXBL_PCNTC',\n",
       " 'TOTPRVTXTO',\n",
       " 'TOTCNTTXOD',\n",
       " 'TXODYRCHG',\n",
       " 'TXODPCNTCH',\n",
       " 'LASTUPDATE',\n",
       " 'GLOBALID',\n",
       " 'BOOKPAGE',\n",
       " 'COMMONAREA',\n",
       " 'PUBLICROAD',\n",
       " 'PRIVATEROA',\n",
       " 'LOT',\n",
       " 'VALUE_AREA',\n",
       " 'CREATED_US',\n",
       " 'CREATED_DA',\n",
       " 'LAST_EDITE',\n",
       " 'LAST_EDI_1',\n",
       " 'COSTPERSQF',\n",
       " 'VESTING',\n",
       " 'MAPFILING',\n",
       " 'Joined',\n",
       " 'bldgtypeID',\n",
       " 'Adj_bldgID',\n",
       " 'Done',\n",
       " 'Notes',\n",
       " 'UNIT_COUNT',\n",
       " 'BUILD_COUN',\n",
       " 'TOTAL_IMPS',\n",
       " 'AVE_BLTASY',\n",
       " 'LAND_VAL',\n",
       " 'IMP_VAL',\n",
       " 'TOT_VAL',\n",
       " 'UnitsperAc',\n",
       " 'Shape_Le_1',\n",
       " 'Shape_Ar_1',\n",
       " 'building_type_id',\n",
       " 'residential_units',\n",
       " 'year_built',\n",
       " 'building_sqft',\n",
       " 'non_residential_sqft',\n",
       " 'Redev_Year',\n",
       " 'FID_parcels_erased',\n",
       " 'FID_Parcels_for_Erase',\n",
       " 'OBJECTID_12',\n",
       " 'PARCELID_1',\n",
       " 'PARCEL_NO_1',\n",
       " 'PARCELID_L_1',\n",
       " 'CREATE_DAT_1',\n",
       " 'BUILDING_1',\n",
       " 'UNIT_1',\n",
       " 'PROP_LEVEL_1',\n",
       " 'PRPRTYDSCR_1',\n",
       " 'ACREAGE_1',\n",
       " 'CNVYNAME_1',\n",
       " 'SITE_FULLA_1',\n",
       " 'SITE_HOUSE_1',\n",
       " 'SITE_PREDI_1',\n",
       " 'SITE_STREE_1',\n",
       " 'SITE_STR_12',\n",
       " 'SITE_CITY_1',\n",
       " 'SITE_STATE_1',\n",
       " 'SITE_ZIP5_1',\n",
       " 'OWNERNAME_1',\n",
       " 'CARE_NAME_1',\n",
       " 'OWN_FULLAD_1',\n",
       " 'OWN_STREET_1',\n",
       " 'OWN_CITY_1',\n",
       " 'OWN_STATE_1',\n",
       " 'OWN_ZIP5_1',\n",
       " 'CVTTXCD_1',\n",
       " 'CVTTXDSCRP_1',\n",
       " 'SCHLDSCRP_1',\n",
       " 'ASMT_YEAR_1',\n",
       " 'USECODE_1',\n",
       " 'USEDSCRP_1',\n",
       " 'NGHBRHDCD_1',\n",
       " 'NGHBRHDGRO_1',\n",
       " 'CLASSCD_1',\n",
       " 'CLASSDSCRP_1',\n",
       " 'TXACCTTYPE_1',\n",
       " 'RESFLRAREA_1',\n",
       " 'RESYRBLT_1',\n",
       " 'RESSTRTYP_1',\n",
       " 'RESSTRTYPD_1',\n",
       " 'STRCLASS_1',\n",
       " 'CLASSMOD_1',\n",
       " 'IMP_RCNLD_1',\n",
       " 'PROP_TYPEC_1',\n",
       " 'PROP_TYP_12',\n",
       " 'MKT_LANDVA_1',\n",
       " 'MKT_LAND_R_1',\n",
       " 'MKT_LAND_A_1',\n",
       " 'MKT_LAND_C_1',\n",
       " 'MKT_IMPVAL_1',\n",
       " 'MKT_IMP_RE_1',\n",
       " 'MKT_IMP_AG_1',\n",
       " 'MKT_IMP_CO_1',\n",
       " 'GREENBELT_1',\n",
       " 'MKT_PRVVAL_1',\n",
       " 'MKT_CNTVAL_1',\n",
       " 'MKT_VALYRC_1',\n",
       " 'MKT_PCNTCG_1',\n",
       " 'TXBL_PRVVA_1',\n",
       " 'TXBL_CNTVA_1',\n",
       " 'TXBL_VALYR_1',\n",
       " 'TXBL_PCNTC_1',\n",
       " 'TOTPRVTXTO_1',\n",
       " 'TOTCNTTXOD_1',\n",
       " 'TXODYRCHG_1',\n",
       " 'TXODPCNTCH_1',\n",
       " 'LASTUPDATE_1',\n",
       " 'GLOBALID_1',\n",
       " 'BOOKPAGE_1',\n",
       " 'COMMONAREA_1',\n",
       " 'PUBLICROAD_1',\n",
       " 'PRIVATEROA_1',\n",
       " 'LOT_1',\n",
       " 'VALUE_AREA_1',\n",
       " 'CREATED_US_1',\n",
       " 'CREATED_DA_1',\n",
       " 'LAST_EDITE_1',\n",
       " 'LAST_EDI_12',\n",
       " 'COSTPERSQF_1',\n",
       " 'VESTING_1',\n",
       " 'MAPFILING_1',\n",
       " 'Joined_1',\n",
       " 'bldgtypeID_1',\n",
       " 'Adj_bldgID_1',\n",
       " 'Done_1',\n",
       " 'Notes_1',\n",
       " 'UNIT_COUNT_1',\n",
       " 'BUILD_COUN_1',\n",
       " 'TOTAL_IMPS_1',\n",
       " 'AVE_BLTASY_1',\n",
       " 'LAND_VAL_1',\n",
       " 'IMP_VAL_1',\n",
       " 'TOT_VAL_1',\n",
       " 'UnitsperAc_1',\n",
       " 'Shape_Le_12',\n",
       " 'Shape_Ar_12',\n",
       " 'building_type_id_1',\n",
       " 'residential_units_1',\n",
       " 'year_built_1',\n",
       " 'building_sqft_1',\n",
       " 'non_residential_sqft_1',\n",
       " 'Redev_Year_1',\n",
       " 'SHAPE']"
      ]
     },
     "execution_count": 20,
     "metadata": {},
     "output_type": "execute_result"
    }
   ],
   "source": [
    "list(final_parcel_df.columns)"
   ]
  },
  {
   "cell_type": "code",
   "execution_count": 21,
   "metadata": {},
   "outputs": [],
   "source": [
    "fields = list(final_parcel_df.columns)\n",
    "fields =[k for k in fields if '_1' not in k]\n",
    "\n",
    "final_parcel_df = final_parcel_df[fields]"
   ]
  },
  {
   "cell_type": "code",
   "execution_count": 22,
   "metadata": {},
   "outputs": [],
   "source": [
    "#list(final_parcel_df.columns)"
   ]
  },
  {
   "cell_type": "code",
   "execution_count": 23,
   "metadata": {},
   "outputs": [
    {
     "data": {
      "text/plain": [
       "'C:\\\\Users\\\\slawless\\\\Desktop\\\\S.Projects 2021\\\\Parcel Splitting\\\\Code\\\\Outputs\\\\Parcel_splitting.gdb\\\\parcels_split_FINAL'"
      ]
     },
     "execution_count": 23,
     "metadata": {},
     "output_type": "execute_result"
    }
   ],
   "source": [
    "final_parcel_df.spatial.to_featureclass(location=os.path.join(gdb,'parcels_split_FINAL'))"
   ]
  },
  {
   "cell_type": "markdown",
   "metadata": {},
   "source": [
    "## create new ID's for the split parcels"
   ]
  },
  {
   "cell_type": "code",
   "execution_count": null,
   "metadata": {},
   "outputs": [],
   "source": []
  },
  {
   "cell_type": "code",
   "execution_count": null,
   "metadata": {},
   "outputs": [],
   "source": []
  },
  {
   "cell_type": "code",
   "execution_count": 24,
   "metadata": {},
   "outputs": [
    {
     "data": {
      "text/plain": [
       "0"
      ]
     },
     "execution_count": 24,
     "metadata": {},
     "output_type": "execute_result"
    }
   ],
   "source": [
    "#opening the pro project to visualize\n",
    "import subprocess\n",
    "\n",
    "path_to_pro = 'C:\\\\Program Files\\\\ArcGIS\\\\Pro\\\\bin\\\\ArcGISPro.exe'\n",
    "path_to_file = 'C:\\\\Users\\\\slawless\\\\Desktop\\\\S.Projects 2021\\\\REMM Visualization\\\\Visualize Output Data- REMM\\\\Visualize Output Data- REMM.aprx'\n",
    "\n",
    "subprocess.call([path_to_pro, path_to_file])"
   ]
  }
 ],
 "metadata": {
  "kernelspec": {
   "display_name": "Python 3",
   "language": "python",
   "name": "python3"
  },
  "language_info": {
   "codemirror_mode": {
    "name": "ipython",
    "version": 3
   },
   "file_extension": ".py",
   "mimetype": "text/x-python",
   "name": "python",
   "nbconvert_exporter": "python",
   "pygments_lexer": "ipython3",
   "version": "3.7.10"
  },
  "varInspector": {
   "cols": {
    "lenName": 16,
    "lenType": 16,
    "lenVar": 40
   },
   "kernels_config": {
    "python": {
     "delete_cmd_postfix": "",
     "delete_cmd_prefix": "del ",
     "library": "var_list.py",
     "varRefreshCmd": "print(var_dic_list())"
    },
    "r": {
     "delete_cmd_postfix": ") ",
     "delete_cmd_prefix": "rm(",
     "library": "var_list.r",
     "varRefreshCmd": "cat(var_dic_list()) "
    }
   },
   "types_to_exclude": [
    "module",
    "function",
    "builtin_function_or_method",
    "instance",
    "_Feature"
   ],
   "window_display": false
  }
 },
 "nbformat": 4,
 "nbformat_minor": 4
}
